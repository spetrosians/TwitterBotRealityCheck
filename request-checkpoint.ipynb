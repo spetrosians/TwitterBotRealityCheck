{
 "metadata": {
  "name": "",
  "signature": "sha256:94a30f02da0379c60d0c035c716762e019c66eb8cf5f23a6cc3f8cc8cff157d2"
 },
 "nbformat": 3,
 "nbformat_minor": 0,
 "worksheets": [
  {
   "cells": [
    {
     "cell_type": "code",
     "collapsed": false,
     "input": [
      "import requests"
     ],
     "language": "python",
     "metadata": {},
     "outputs": [],
     "prompt_number": 4
    },
    {
     "cell_type": "code",
     "collapsed": false,
     "input": [
      "url_line='http://api.npr.org/query?id=1130,1049&fields=title,teaser,storyDate,relatedLink&output=JSON&apiKey=MDE3NDQzNTkzMDE0MTYxOTA0OTQyYjgzYw001'\n",
      "r = requests.get(url_line)"
     ],
     "language": "python",
     "metadata": {},
     "outputs": [],
     "prompt_number": 5
    },
    {
     "cell_type": "code",
     "collapsed": false,
     "input": [
      "r_json=r.json()"
     ],
     "language": "python",
     "metadata": {},
     "outputs": [],
     "prompt_number": 6
    },
    {
     "cell_type": "code",
     "collapsed": false,
     "input": [
      "r_json.keys()"
     ],
     "language": "python",
     "metadata": {},
     "outputs": [
      {
       "metadata": {},
       "output_type": "pyout",
       "prompt_number": 15,
       "text": [
        "[u'version', u'list']"
       ]
      }
     ],
     "prompt_number": 15
    },
    {
     "cell_type": "code",
     "collapsed": false,
     "input": [
      "r_json['version']"
     ],
     "language": "python",
     "metadata": {},
     "outputs": [
      {
       "metadata": {},
       "output_type": "pyout",
       "prompt_number": 8,
       "text": [
        "u'0.94'"
       ]
      }
     ],
     "prompt_number": 8
    },
    {
     "cell_type": "code",
     "collapsed": false,
     "input": [
      "len(r_json['list']['story'])"
     ],
     "language": "python",
     "metadata": {},
     "outputs": [
      {
       "metadata": {},
       "output_type": "pyout",
       "prompt_number": 10,
       "text": [
        "10"
       ]
      }
     ],
     "prompt_number": 10
    },
    {
     "cell_type": "code",
     "collapsed": false,
     "input": [
      "r_json['list']['story'][0].keys()"
     ],
     "language": "python",
     "metadata": {},
     "outputs": [
      {
       "metadata": {},
       "output_type": "pyout",
       "prompt_number": 13,
       "text": [
        "[u'title', u'storyDate', u'teaser', u'link', u'id', u'relatedLink']"
       ]
      }
     ],
     "prompt_number": 13
    },
    {
     "cell_type": "code",
     "collapsed": false,
     "input": [
      "for story in r_json['list']['story']:\n",
      "    if story.has_key('title'):\n",
      "        print story['title']['$text'], len(story['title']['$text'])\n",
      "        \n",
      "    \n",
      "len(r_json['list']['story'][2]['teaser']['$text'])\n",
      "    "
     ],
     "language": "python",
     "metadata": {},
     "outputs": [
      {
       "output_type": "stream",
       "stream": "stdout",
       "text": [
        "Protecting Privacy In The Digital Age: Mikko Hypp\u00f6nen Answers Your Questions 76\n",
        "Does Technology Make Us More Honest? 36\n",
        "Can You Use Algorithms To Find Love?  37\n",
        "Our Supercomputer Overlord Is Now Running A Food Truck 54\n",
        "Does More Convenience Mean Less Privacy? 40\n",
        "Is Too Much Privacy Bad For Your Health? 40\n",
        "Brain Games: Move Objects With Your Mind To Find Inner Calm?  61\n",
        "Can Ordinary People Become Leaders? 35\n",
        "Is Texting Actually Advancing Language?  40\n",
        "The Hackers 11\n"
       ]
      },
      {
       "metadata": {},
       "output_type": "pyout",
       "prompt_number": 23,
       "text": [
        "157"
       ]
      }
     ],
     "prompt_number": 23
    },
    {
     "cell_type": "code",
     "collapsed": false,
     "input": [
      "r_json['list']['teaser']"
     ],
     "language": "python",
     "metadata": {},
     "outputs": [
      {
       "ename": "NameError",
       "evalue": "name 'r_json' is not defined",
       "output_type": "pyerr",
       "traceback": [
        "\u001b[1;31m---------------------------------------------------------------------------\u001b[0m\n\u001b[1;31mNameError\u001b[0m                                 Traceback (most recent call last)",
        "\u001b[1;32m<ipython-input-3-407c5fa3115b>\u001b[0m in \u001b[0;36m<module>\u001b[1;34m()\u001b[0m\n\u001b[1;32m----> 1\u001b[1;33m \u001b[0mr_json\u001b[0m\u001b[1;33m[\u001b[0m\u001b[1;34m'list'\u001b[0m\u001b[1;33m]\u001b[0m\u001b[1;33m[\u001b[0m\u001b[1;34m'teaser'\u001b[0m\u001b[1;33m]\u001b[0m\u001b[1;33m\u001b[0m\u001b[0m\n\u001b[0m",
        "\u001b[1;31mNameError\u001b[0m: name 'r_json' is not defined"
       ]
      }
     ],
     "prompt_number": 3
    },
    {
     "cell_type": "code",
     "collapsed": false,
     "input": [
      "r_json['list']['miniTeaser']"
     ],
     "language": "python",
     "metadata": {},
     "outputs": [
      {
       "metadata": {},
       "output_type": "pyout",
       "prompt_number": 42,
       "text": [
        "{u'$text': u'Custom NPR News Feed API.  Visit http://www.npr.org/templates/apidoc/index.php for more information.'}"
       ]
      }
     ],
     "prompt_number": 42
    },
    {
     "cell_type": "code",
     "collapsed": false,
     "input": [
      "r_json['list']['title']"
     ],
     "language": "python",
     "metadata": {},
     "outputs": [
      {
       "metadata": {},
       "output_type": "pyout",
       "prompt_number": 43,
       "text": [
        "{u'$text': u'NPR: Stories from \"Digital Life\", \"Europe\", and \"Brain Candy\"'}"
       ]
      }
     ],
     "prompt_number": 43
    },
    {
     "cell_type": "code",
     "collapsed": false,
     "input": [
      "r_json['list'].keys()"
     ],
     "language": "python",
     "metadata": {},
     "outputs": [
      {
       "metadata": {},
       "output_type": "pyout",
       "prompt_number": 44,
       "text": [
        "[u'teaser', u'miniTeaser', u'link', u'title']"
       ]
      }
     ],
     "prompt_number": 44
    },
    {
     "cell_type": "code",
     "collapsed": false,
     "input": [
      "len(r_json['list']['title']['$text'])"
     ],
     "language": "python",
     "metadata": {},
     "outputs": [
      {
       "metadata": {},
       "output_type": "pyout",
       "prompt_number": 52,
       "text": [
        "61"
       ]
      }
     ],
     "prompt_number": 52
    },
    {
     "cell_type": "code",
     "collapsed": false,
     "input": [
      "r_json['list']['miniTeaser']['$text']"
     ],
     "language": "python",
     "metadata": {},
     "outputs": [
      {
       "metadata": {},
       "output_type": "pyout",
       "prompt_number": 54,
       "text": [
        "u'Custom NPR News Feed API.  Visit http://www.npr.org/templates/apidoc/index.php for more information.'"
       ]
      }
     ],
     "prompt_number": 54
    },
    {
     "cell_type": "code",
     "collapsed": false,
     "input": [
      "r_json['list'].keys()"
     ],
     "language": "python",
     "metadata": {},
     "outputs": [
      {
       "metadata": {},
       "output_type": "pyout",
       "prompt_number": 60,
       "text": [
        "[u'teaser', u'miniTeaser', u'link', u'title']"
       ]
      }
     ],
     "prompt_number": 60
    },
    {
     "cell_type": "code",
     "collapsed": false,
     "input": [
      "r_json['list']['teaser']['$text']"
     ],
     "language": "python",
     "metadata": {},
     "outputs": [
      {
       "metadata": {},
       "output_type": "pyout",
       "prompt_number": 58,
       "text": [
        "u'This news feed contains stories that meet all of the following criteria: (1) Stories from the \"Digital Life\" topic.  (2) Stories from the \"Europe\" topic.  (3) Stories from the \"Brain Candy\" topic.  '"
       ]
      }
     ],
     "prompt_number": 58
    },
    {
     "cell_type": "code",
     "collapsed": false,
     "input": [
      "r_json['list']['story'][0]['text']['paragraph']"
     ],
     "language": "python",
     "metadata": {},
     "outputs": [
      {
       "ename": "KeyError",
       "evalue": "'story'",
       "output_type": "pyerr",
       "traceback": [
        "\u001b[1;31m---------------------------------------------------------------------------\u001b[0m\n\u001b[1;31mKeyError\u001b[0m                                  Traceback (most recent call last)",
        "\u001b[1;32m<ipython-input-59-9afd12333e1f>\u001b[0m in \u001b[0;36m<module>\u001b[1;34m()\u001b[0m\n\u001b[1;32m----> 1\u001b[1;33m \u001b[0mr_json\u001b[0m\u001b[1;33m[\u001b[0m\u001b[1;34m'list'\u001b[0m\u001b[1;33m]\u001b[0m\u001b[1;33m[\u001b[0m\u001b[1;34m'story'\u001b[0m\u001b[1;33m]\u001b[0m\u001b[1;33m[\u001b[0m\u001b[1;36m0\u001b[0m\u001b[1;33m]\u001b[0m\u001b[1;33m[\u001b[0m\u001b[1;34m'text'\u001b[0m\u001b[1;33m]\u001b[0m\u001b[1;33m[\u001b[0m\u001b[1;34m'paragraph'\u001b[0m\u001b[1;33m]\u001b[0m\u001b[1;33m\u001b[0m\u001b[0m\n\u001b[0m",
        "\u001b[1;31mKeyError\u001b[0m: 'story'"
       ]
      }
     ],
     "prompt_number": 59
    },
    {
     "cell_type": "code",
     "collapsed": false,
     "input": [
      "text_list_dict=r_json['list']['story'][0]['text']['paragraph']"
     ],
     "language": "python",
     "metadata": {},
     "outputs": [
      {
       "ename": "KeyError",
       "evalue": "'story'",
       "output_type": "pyerr",
       "traceback": [
        "\u001b[1;31m---------------------------------------------------------------------------\u001b[0m\n\u001b[1;31mKeyError\u001b[0m                                  Traceback (most recent call last)",
        "\u001b[1;32m<ipython-input-117-c636104d0e78>\u001b[0m in \u001b[0;36m<module>\u001b[1;34m()\u001b[0m\n\u001b[1;32m----> 1\u001b[1;33m \u001b[0mtext_list_dict\u001b[0m\u001b[1;33m=\u001b[0m\u001b[0mr_json\u001b[0m\u001b[1;33m[\u001b[0m\u001b[1;34m'list'\u001b[0m\u001b[1;33m]\u001b[0m\u001b[1;33m[\u001b[0m\u001b[1;34m'story'\u001b[0m\u001b[1;33m]\u001b[0m\u001b[1;33m[\u001b[0m\u001b[1;36m0\u001b[0m\u001b[1;33m]\u001b[0m\u001b[1;33m[\u001b[0m\u001b[1;34m'text'\u001b[0m\u001b[1;33m]\u001b[0m\u001b[1;33m[\u001b[0m\u001b[1;34m'paragraph'\u001b[0m\u001b[1;33m]\u001b[0m\u001b[1;33m\u001b[0m\u001b[0m\n\u001b[0m",
        "\u001b[1;31mKeyError\u001b[0m: 'story'"
       ]
      }
     ],
     "prompt_number": 117
    },
    {
     "cell_type": "code",
     "collapsed": false,
     "input": [
      "text_list=[p['$text'] for p in text_list_dict]\n",
      "    "
     ],
     "language": "python",
     "metadata": {},
     "outputs": [],
     "prompt_number": 118
    },
    {
     "cell_type": "code",
     "collapsed": false,
     "input": [
      "text_list"
     ],
     "language": "python",
     "metadata": {},
     "outputs": [
      {
       "metadata": {},
       "output_type": "pyout",
       "prompt_number": 19,
       "text": [
        "[u\"President Obama announced Thursday that he's using executive actions to grant temporary relief to some of the nearly 12 million immigrants living in the United States illegally. There's been debate over how much latitude the president has to act on immigration, but the Obama said he felt compelled to act after Congress failed to pass a reform bill.\",\n",
        " u'\"To those members of Congress who question my authority to make our immigration system work better, or question the wisdom of me acting where Congress has failed, I have one answer: Pass a bill,\" the president said.',\n",
        " u'Even before the prime-time speech, congressional leaders were fired up about the president\\'s plan. \"The first thing we need to explain to the American people is that this is illegal,\" Rep. Raul Labrador, Republican of Idaho, told NPR\\'s All Things Considered.',\n",
        " u'And Democratic Congressman Luis Gutierrez of Illinois came to the president\\'s defense, calling the action \"bold\" and \"generous.\"',\n",
        " u\"But Congress is now out of session until the first week of December, so many members are weighing in on the president's speech on Twitter and other platforms \\u2014 with mixed reactions.\",\n",
        " u\"Here's some of what they're saying: [Copyright 2014 NPR]\"]"
       ]
      }
     ],
     "prompt_number": 19
    },
    {
     "cell_type": "code",
     "collapsed": false,
     "input": [
      "\n",
      "\n",
      "\n",
      "\n",
      "from random import randint\n",
      "def response(celeb, link, user, miniTeaser, teaser, title):\n",
      "\tprint celeb\n",
      "\tprint link\n",
      "\tprint user\n",
      "\tprint miniTeaser\n",
      "\tprint teaser\n",
      "\tprint title \n",
      "    \n",
      "\tif len(miniTeaser)>0:\n",
      "\t\tmessage = miniTeaser \n",
      "\telse:\n",
      "\t\tmessage = teaser\n",
      "\tresponse_good = False\n",
      "    \n",
      "\twhile not response_good:\n",
      "\n",
      "\t\tresponse = []\n",
      "\t\tresponse.append(celeb + \"'s latest article: \" + message + ' ' + link)\n",
      "\t\tresponse.append(celeb + ' is concerned about this: ' + message + ' ' + link)\n",
      "\t\tresponse.append(celeb + \" has a new guilty pleasure: \" + message + ' ' + link)\n",
      "\t\tresponse.append(\"This is more popular than \" + celeb + '?\\n' + message + ' ' + link)\n",
      "\t\tresponse.append(\"Here's a break from \" + celeb + ': ' + message + ' ' + link)\n",
      "\t\tresponse.append(\"@\" + user + ' + ' +celeb + ' = '+ message + ' ' + link)\n",
      "\t\tresponse.append(\"What do you and \" + celeb + ' have in common? ' + message + ' ' + link)\n",
      "\t\ti = randint(0,7) #inclusive\n",
      "\t\tresponse = response[i]\n",
      "\t\tif message == title:\n",
      "\t\t\tresponse = \"Check this out: \" + link\n",
      "\t\t\tresponse_good = True\n",
      "\t\tif len(response) < 140-len(link)+20:\n",
      "\t\t\tresponse_good = True\n",
      "\t\telse:\n",
      "\t\t\tmessage = title\n",
      "\treturn response\n"
     ],
     "language": "python",
     "metadata": {},
     "outputs": [],
     "prompt_number": 28
    },
    {
     "cell_type": "code",
     "collapsed": false,
     "input": [
      "print r_json['list']['story'][0]['miniTeaser']\n",
      "print r_json['list']['story'][0]['teaser']['$text']\n",
      "print r_json['list']['story'][0]['title']['$text']\n",
      "\n",
      "print len(r_json['list']['story'][0]['miniTeaser'])\n",
      "print len(r_json['list']['story'][0]['teaser']['$text'])\n",
      "print len(r_json['list']['story'][0]['title']['$text'])\n",
      "len(\"Want to know what's more popular than\")"
     ],
     "language": "python",
     "metadata": {},
     "outputs": [
      {
       "ename": "KeyError",
       "evalue": "'miniTeaser'",
       "output_type": "pyerr",
       "traceback": [
        "\u001b[1;31m---------------------------------------------------------------------------\u001b[0m\n\u001b[1;31mKeyError\u001b[0m                                  Traceback (most recent call last)",
        "\u001b[1;32m<ipython-input-29-5462fa7afe15>\u001b[0m in \u001b[0;36m<module>\u001b[1;34m()\u001b[0m\n\u001b[1;32m----> 1\u001b[1;33m \u001b[1;32mprint\u001b[0m \u001b[0mr_json\u001b[0m\u001b[1;33m[\u001b[0m\u001b[1;34m'list'\u001b[0m\u001b[1;33m]\u001b[0m\u001b[1;33m[\u001b[0m\u001b[1;34m'story'\u001b[0m\u001b[1;33m]\u001b[0m\u001b[1;33m[\u001b[0m\u001b[1;36m0\u001b[0m\u001b[1;33m]\u001b[0m\u001b[1;33m[\u001b[0m\u001b[1;34m'miniTeaser'\u001b[0m\u001b[1;33m]\u001b[0m\u001b[1;33m\u001b[0m\u001b[0m\n\u001b[0m\u001b[0;32m      2\u001b[0m \u001b[1;32mprint\u001b[0m \u001b[0mr_json\u001b[0m\u001b[1;33m[\u001b[0m\u001b[1;34m'list'\u001b[0m\u001b[1;33m]\u001b[0m\u001b[1;33m[\u001b[0m\u001b[1;34m'story'\u001b[0m\u001b[1;33m]\u001b[0m\u001b[1;33m[\u001b[0m\u001b[1;36m0\u001b[0m\u001b[1;33m]\u001b[0m\u001b[1;33m[\u001b[0m\u001b[1;34m'teaser'\u001b[0m\u001b[1;33m]\u001b[0m\u001b[1;33m[\u001b[0m\u001b[1;34m'$text'\u001b[0m\u001b[1;33m]\u001b[0m\u001b[1;33m\u001b[0m\u001b[0m\n\u001b[0;32m      3\u001b[0m \u001b[1;32mprint\u001b[0m \u001b[0mr_json\u001b[0m\u001b[1;33m[\u001b[0m\u001b[1;34m'list'\u001b[0m\u001b[1;33m]\u001b[0m\u001b[1;33m[\u001b[0m\u001b[1;34m'story'\u001b[0m\u001b[1;33m]\u001b[0m\u001b[1;33m[\u001b[0m\u001b[1;36m0\u001b[0m\u001b[1;33m]\u001b[0m\u001b[1;33m[\u001b[0m\u001b[1;34m'title'\u001b[0m\u001b[1;33m]\u001b[0m\u001b[1;33m[\u001b[0m\u001b[1;34m'$text'\u001b[0m\u001b[1;33m]\u001b[0m\u001b[1;33m\u001b[0m\u001b[0m\n\u001b[0;32m      4\u001b[0m \u001b[1;33m\u001b[0m\u001b[0m\n\u001b[0;32m      5\u001b[0m \u001b[1;32mprint\u001b[0m \u001b[0mlen\u001b[0m\u001b[1;33m(\u001b[0m\u001b[0mr_json\u001b[0m\u001b[1;33m[\u001b[0m\u001b[1;34m'list'\u001b[0m\u001b[1;33m]\u001b[0m\u001b[1;33m[\u001b[0m\u001b[1;34m'story'\u001b[0m\u001b[1;33m]\u001b[0m\u001b[1;33m[\u001b[0m\u001b[1;36m0\u001b[0m\u001b[1;33m]\u001b[0m\u001b[1;33m[\u001b[0m\u001b[1;34m'miniTeaser'\u001b[0m\u001b[1;33m]\u001b[0m\u001b[1;33m)\u001b[0m\u001b[1;33m\u001b[0m\u001b[0m\n",
        "\u001b[1;31mKeyError\u001b[0m: 'miniTeaser'"
       ]
      }
     ],
     "prompt_number": 29
    },
    {
     "cell_type": "code",
     "collapsed": false,
     "input": [
      "response('katy perry','hht/ahsdjfhk', 'qwerty', '', r_json['list']['story'][0]['teaser']['$text'], r_json['list']['story'][0]['title']['$text'])"
     ],
     "language": "python",
     "metadata": {},
     "outputs": [
      {
       "output_type": "stream",
       "stream": "stdout",
       "text": [
        "katy perry\n",
        "hht/ahsdjfhk\n",
        "qwerty\n",
        "\n",
        "White hat hacker Mikko Hypp\u00f6nen on the importance of privacy in the digital age.\n",
        "Protecting Privacy In The Digital Age: Mikko Hypp\u00f6nen Answers Your Questions\n"
       ]
      },
      {
       "metadata": {},
       "output_type": "pyout",
       "prompt_number": 32,
       "text": [
        "u'This is more popular than katy perry?\\nWhite hat hacker Mikko Hypp\\xf6nen on the importance of privacy in the digital age. hht/ahsdjfhk'"
       ]
      }
     ],
     "prompt_number": 32
    },
    {
     "cell_type": "code",
     "collapsed": false,
     "input": [
      "for story in r_json['list']['story']: \n",
      "    if story.has_key('title') and len(story['title']['$text'])<60 :\n",
      "        print response('katy perry','http://www.npr.org/api/queryGenerator.php', 'qwerty', '', story['teaser']['$text'], story['title']['$text'])\n",
      "        break"
     ],
     "language": "python",
     "metadata": {},
     "outputs": [
      {
       "output_type": "stream",
       "stream": "stdout",
       "text": [
        "katy perry\n",
        "http://www.npr.org/api/queryGenerator.php\n",
        "qwerty\n",
        "\n",
        "Who hasn't sent a text message saying \"I'm on my way\" when it wasn't true? But some technology might actually force us to be more honest, says psychologist Jeff Hancock.\n",
        "Does Technology Make Us More Honest?\n",
        "Check this out: http://www.npr.org/api/queryGenerator.php\n"
       ]
      }
     ],
     "prompt_number": 43
    },
    {
     "cell_type": "code",
     "collapsed": false,
     "input": [
      "r_json['list']['story'][0].keys()"
     ],
     "language": "python",
     "metadata": {},
     "outputs": [
      {
       "metadata": {},
       "output_type": "pyout",
       "prompt_number": 39,
       "text": [
        "[u'title', u'storyDate', u'teaser', u'link', u'id', u'relatedLink']"
       ]
      }
     ],
     "prompt_number": 39
    },
    {
     "cell_type": "code",
     "collapsed": false,
     "input": [
      "len('kim kardashian')"
     ],
     "language": "python",
     "metadata": {},
     "outputs": [
      {
       "metadata": {},
       "output_type": "pyout",
       "prompt_number": 101,
       "text": [
        "14"
       ]
      }
     ],
     "prompt_number": 101
    },
    {
     "cell_type": "code",
     "collapsed": false,
     "input": [
      "len('justin timberlake')"
     ],
     "language": "python",
     "metadata": {},
     "outputs": [
      {
       "metadata": {},
       "output_type": "pyout",
       "prompt_number": 102,
       "text": [
        "17"
       ]
      }
     ],
     "prompt_number": 102
    },
    {
     "cell_type": "code",
     "collapsed": false,
     "input": [
      "len('ellen degenerous')"
     ],
     "language": "python",
     "metadata": {},
     "outputs": [
      {
       "metadata": {},
       "output_type": "pyout",
       "prompt_number": 103,
       "text": [
        "16"
       ]
      }
     ],
     "prompt_number": 103
    },
    {
     "cell_type": "code",
     "collapsed": false,
     "input": [],
     "language": "python",
     "metadata": {},
     "outputs": []
    }
   ],
   "metadata": {}
  }
 ]
}