{
 "metadata": {
  "name": "",
  "signature": "sha256:778e72e2a08c819abd242af9dec9b59c053adb37d8cc1a32bff1a6830b76b302"
 },
 "nbformat": 3,
 "nbformat_minor": 0,
 "worksheets": [
  {
   "cells": [
    {
     "cell_type": "heading",
     "level": 2,
     "metadata": {},
     "source": [
      "Math 582D: Group Project 2 "
     ]
    },
    {
     "cell_type": "heading",
     "level": 6,
     "metadata": {},
     "source": [
      "Yauheniya Lahoda, Roberto Cholvin, Sevana Petrosians "
     ]
    },
    {
     "cell_type": "markdown",
     "metadata": {},
     "source": [
      "Our goal was to make a twitter robot which would give a reality check to anyone on twitter who mentions specific celebrities. While people are spending their time and energy worrying about a celebrity's new picture online, scientific discoveries are being made, new diseases are killing children, history is being made, and we're all missing it. \n",
      "\n",
      "What GetRealCeleb will do is respond to the tweets who mention a specific celebrity from our list with a message and a link to either an article, a video, or an audio from our chosen topic list from the National Public Radio website. \n"
     ]
    },
    {
     "cell_type": "code",
     "collapsed": false,
     "input": [
      "from celeb_word_list import *\n",
      "from aux_func import *\n",
      "import os\n",
      "import sys\n",
      "import time\n",
      "import json\n",
      "import twitter\n",
      "import re\n",
      "import pymongo\n",
      "import exceptions\n",
      "import requests\n",
      "from datetime import date, datetime, timedelta\n",
      "from random import randint\n",
      "import pickle as pkl\n",
      "from textblob import TextBlob\n",
      "import nltk\n",
      "\n",
      "from twitter.api import Twitter, TwitterError\n",
      "from twitter.oauth import OAuth, write_token_file , read_token_file\n",
      "from twitter.oauth_dance import oauth_dance\n",
      "from urllib2 import URLError\n",
      "from httplib import BadStatusLine\n",
      "\n",
      "\n",
      "nltk.data.path.append('/home/lagoda')\n",
      "\n",
      "def oauth_login():\n",
      "    CONSUMER_KEY = 'Q7KQHynEeJwEvUrKnHjRUvFBA'\n",
      "    CONSUMER_SECRET ='WdO5H4NV78bUApxT7tajxr9p7YtQUVWAtkUzIooCq1LdlNurbd'\n",
      "    OAUTH_TOKEN = '2878685726-7GgrQM3HrFclEu62j6OnoZ3LlgtadoufymOqZ50'\n",
      "    OAUTH_TOKEN_SECRET =  'rFF2cokPmpg6SuDH9zd7Jy970tTf01UXwTjCrtPCrzpDS'\n",
      "    auth = twitter.oauth.OAuth(OAUTH_TOKEN, OAUTH_TOKEN_SECRET,\n",
      "                               CONSUMER_KEY, CONSUMER_SECRET)\n",
      "    \n",
      "    twitter_api = Twitter(auth=auth)\n",
      "    return twitter_api"
     ],
     "language": "python",
     "metadata": {},
     "outputs": [],
     "prompt_number": 9
    },
    {
     "cell_type": "heading",
     "level": 3,
     "metadata": {},
     "source": [
      "Step 1: The tweets GetRealCeleb will respond to "
     ]
    },
    {
     "cell_type": "markdown",
     "metadata": {},
     "source": [
      "We first narrowed down the search by looking at the top 50 popular celebrities on twitter and picked our top 17 list excluding polititions, tv shows, etc. \n",
      "\n",
      "We then, created a text file for each celebrity including all the tweets who mentioned their names. "
     ]
    },
    {
     "cell_type": "markdown",
     "metadata": {},
     "source": [
      "We used the code from a previous assignment to look for the top common words mentioned with a specific celebrity and picked the most reasonable top 15 words associated with each specific celebrity. By doing so, we realized that the \"no\" words were more important than the \"yes\" words because we were able to get rid of a lot of false positives, in our case other robots. "
     ]
    },
    {
     "cell_type": "heading",
     "level": 5,
     "metadata": {},
     "source": [
      "Issue: Other bots/advertisements "
     ]
    },
    {
     "cell_type": "markdown",
     "metadata": {},
     "source": [
      "We noticed a lot of robots twitting advertisements and we didn't want to respond to other bots."
     ]
    },
    {
     "cell_type": "markdown",
     "metadata": {},
     "source": [
      "After some analysis we decided to exclude any tweet that included words like \"click\", \"win\", \"follow\", some numbers, etc.  "
     ]
    },
    {
     "cell_type": "code",
     "collapsed": false,
     "input": [
      "name_list=['ashton kutcher',\n",
      "'beyonce',\n",
      "'britney spears',\n",
      "'chris brown',\n",
      "'jennifer lopez',\n",
      "'justin bieber',\n",
      "'justin timberlake',\n",
      "'katy perry',\n",
      "'kim kardashian',\n",
      "'lady gaga',\n",
      "'miley cyrus',\n",
      "'nicki minaj',\n",
      "'oprah winfrey',\n",
      "'rihanna',\n",
      "'selena gomez',\n",
      "'shakira',\n",
      "'taylor swift']\n",
      "\n",
      "celeb_word_list={\n",
      " 'rihanna': \n",
      "    {'yes':['love', 'like', 'chris', 'single', 'bravo', 'album', 'girl', 'music', 'song', 'eminem', 'amas', 'life', 'dinner', 'fan', 'people'],\n",
      "    'no':['click', 'win', 'follow'] },\n",
      " 'lady gaga': \n",
      "    {'yes':['love', 'monster', 'inspiration', 'million', 'wild', 'endlessly', 'blessings', 'purpose', 'special', 'like', 'bravery', 'veterens', 'best', 'amazing', 'music'],\n",
      "    'no':['click', 'win', 'follow'] },\n",
      " 'kim kardashian': \n",
      "    {'yes': ['famous', 'hollywoood', 'celebrity', 'rayj', 'kanyewest', 'khloe', 'coffee', 'kourtney', 'hamptons', 'champagne', 'glass', 'papermagazine', 'love', 'breaktheinternet', 'wear'],\n",
      "    'no':['click', 'win', 'follow'] },\n",
      " 'miley cyrus': \n",
      "    {'yes': ['love', 'like', 'smile', 'rainbow', 'freaks', 'stop', 'music', 'hannah', 'best', 'twerked', 'wrecking', 'bangerz', 'pop', 'life', 'show'], \n",
      "    'no':['click', 'win', 'follow'] },\n",
      " 'taylor swift': \n",
      "     {'yes':['love', 'album', 'like', 'music', 'excited', 'friends', 'always', 'shake', 'crowns', 'never', 'wrong', 'proud', 'beaches', 'amazing', 'rest'],\n",
      "    'no':['click', 'win', 'follow'] },\n",
      " 'nicki minaj':\n",
      "    {'yes': ['video', 'bang', 'love', 'song', 'like', 'anaconda', 'drake', 'arianagrande', 'jessiej', 'booty', 'world', 'pokemon', 'life', 'music', 'duck'],\n",
      "    'no':['click', 'win', 'follow'] },\n",
      " 'katy perry': \n",
      "     {'yes':['favorite', 'love', 'like', 'wear', 'artist', 'amas', 'birthday', 'single', 'heaven', 'earth', 'female', 'girl', 'life', 'firework', 'baby'],\n",
      "    'no':['click', 'win', 'follow'] },\n",
      " 'selena gomez': \n",
      "     {'yes':['thought', 'love', 'like', 'believe', 'friends', 'lucky', 'listen', 'voice', 'night', 'beautiful', 'night', 'justinbieber', 'inspiring', 'really', 'song'],\n",
      "    'no':['click', 'win', 'follow'] },\n",
      " 'shakira': \n",
      "    {'yes': ['hips', 'murder', 'night', 'celebrate', 'hot', 'milestone', 'joy', 'lie', 'best', 'music', 'fall', 'waka', 'life', 'loved', 'stay'],\n",
      "    'no':['click', 'win', 'follow'] },\n",
      " 'oprah winfrey': \n",
      "     {'yes':['foot', 'gracious', 'wise', 'trust', 'like', 'queen', 'life', 'love', 'privilege', 'luck', 'believe', 'show', 'network', 'glamours', 'attitude'],\n",
      "    'no':['click', 'win', 'follow'] },\n",
      " 'ashton kutcher': \n",
      "     {'yes':['alia', 'film', 'fan', 'bhatt', 'hollywood', 'short', 'found', 'mila', 'kunis', 'safety', 'praised', 'half', 'star', 'baby', 'actor', 'hunk'],\n",
      "    'no':['click', 'win', 'follow'] },\n",
      " 'britney spears': \n",
      "    {'yes': ['love', 'follow', 'behind', 'turns', 'bonus', 'spirit', 'join', 'please', 'stage', 'gorgeous', 'night', 'told', 'great', 'happens', 'excited', 'little'],\n",
      "    'no':['click', 'win', 'follow'] },\n",
      " 'chris brown':\n",
      "     {'yes':['like', 'girl', 'aint', 'said', 'cheetah', 'tamar', 'love', 'nigga', 'people', 'expect', 'adrienne', 'ass', 'real', 'bailon', 'karrueche', 'braxton'],\n",
      "    'no':['click', 'win', 'follow'] },\n",
      " 'jennifer lopez': \n",
      "     {'yes':['su', 'la', 'figura', 'campaa', 'abdomen', 'luce', 'plano', 'cantante', 'protagoniza', 'presume', 'love', 'booty', 'million', 'day', 'chelsea', 'house'],\n",
      "    'no':['click', 'win', 'follow'] },\n",
      " 'justin bieber': \n",
      "     {'yes':['love', 'much', 'vote', 'beliebers', 'na', 'smile', 'know', 'hi', 'see', 'like', 'wan', 'life', 'one', 'codysimpson'],\n",
      "    'no':['(x*[0-9]+)','follow','click', 'win'] },\n",
      " 'justin timberlake': \n",
      "    {'yes': ['man', 'beautiful', 'times', 'human', 'bad', 'thing', 'restaurantes', 'love', 'like', 'imagina', 'quer', 'nesses', 'pfvr', 'comer', 'dono', 'voice'],\n",
      "    'no':['click', 'win', 'follow'] },\n",
      " 'beyonce': {'yes':['artist', 'year', 'amas', 'album', 'love', 'new', 'like', 'people', 'want', 'tell', 'think', 'girl', 'band', 'secret', 'never', 'even'],\n",
      "    'no':['click', 'win', 'follow']}\n",
      " }"
     ],
     "language": "python",
     "metadata": {},
     "outputs": []
    },
    {
     "cell_type": "markdown",
     "metadata": {},
     "source": [
      "We now had a list of the tweets we wanted to respond to: Any tweet including the name of one of the specific celebrities and one given \"yes\" word and excluding any tweet including any of the \"no\" words for that celebrity. "
     ]
    },
    {
     "cell_type": "heading",
     "level": 3,
     "metadata": {},
     "source": [
      "Step 2:  Source of  response - National Public Radio website "
     ]
    },
    {
     "cell_type": "markdown",
     "metadata": {},
     "source": [
      "We decided to give these twitters a reality check by showing them what's going on around the world, while they're busy with celebrities, hence, our logo for the bot. "
     ]
    },
    {
     "cell_type": "markdown",
     "metadata": {},
     "source": [
      "We  the website www.npr.org to get our data base for the responses. The reason for this choice is that first of all Gina likes the articles and topics mentioned on this site and also it had an API and we were able to narrow down our topic choices easily. "
     ]
    },
    {
     "cell_type": "code",
     "collapsed": false,
     "input": [
      "def getNPRStories(startDate=date.today()-timedelta(days=30), endDate=date.today()):\n",
      "    url_line='http://api.npr.org/query'\n",
      "    def getParamDict():\n",
      "        params = {'meta':'none',\n",
      "          'id':'{topic}',\n",
      "          'fields':','.join(['storyDate','text','listText','pullQuote','teaser','title']), \n",
      "          'requiredAssets':'image',\n",
      "          'startDate':str(startDate),\n",
      "          'endDate':str(endDate),\n",
      "          'dateType':'story',\n",
      "          'sort':'featured',\n",
      "          'output':'JSON', \n",
      "          'numResults':'100',\n",
      "          'apiKey':'MDE3NDQzNTkzMDE0MTYxOTA0OTQyYjgzYw001'}\n",
      "        return params\n",
      "          \n",
      "   \n",
      "    topic_list=getTopicDict().keys()\n",
      "    \n",
      "    params_dict={}\n",
      "    for topic in topic_list:\n",
      "        params=getParamDict()\n",
      "        params['id']=params['id'].format(topic=topic)\n",
      "        params_dict[topic]=params\n",
      "    \n",
      "   \n",
      "        \n",
      "    story_dict_json={ p: requests.get(url_line, params=params_dict[p]).json()\n",
      "                                      for p in params_dict}       \n",
      "    \n",
      "    story_dict={topic:story_dict_json[topic]['list']['story']\n",
      "                        for topic in story_dict_json \n",
      "                            if story_dict_json[topic]['list'].has_key('story')}\n",
      "        \n",
      "    return story_dict"
     ],
     "language": "python",
     "metadata": {},
     "outputs": [],
     "prompt_number": 8
    },
    {
     "cell_type": "markdown",
     "metadata": {},
     "source": [
      "Our chosen topics: \n",
      "\n",
      "358046323,#Color Decoded: Stories That Span The Spectrum\n",
      "173814508,#The Race Card Project: Six-Word Essays\n",
      "156490415,#Joe's Big Idea\n",
      "1008,#Arts & Life\n",
      "1060,#Commentary\n",
      "1049,#Digital Life\n",
      "1025,#Environment\n",
      "1052,#Games & Humor\n",
      "1136,#History\n",
      "1129,#Humans\n",
      "1024,#Research News\n",
      "1007,#Science\n",
      "1004,#World\n",
      "1056,#World Story of the Day"
     ]
    },
    {
     "cell_type": "heading",
     "level": 3,
     "metadata": {},
     "source": [
      "Step 3: How we responded to the tweets"
     ]
    },
    {
     "cell_type": "markdown",
     "metadata": {},
     "source": [
      "The response will include the user, a message from us, the name of the celebrity they mentioned,  a title/miniteaser/teaser and a link to either an article, a video, or an audio about one of the preceding topics. "
     ]
    },
    {
     "cell_type": "code",
     "collapsed": false,
     "input": [
      "def getTopicDict():\n",
      "    \n",
      "    templates={'358046323':\"@{user} {celeb} shares a colorful world with you. {message} {link}\",\n",
      "                '173814508':\"@{user} Even {celeb} doesn't have enough money to end racism. {message} {link}\",\n",
      "                '156490415':\"@{user} Do you think {celeb} can come up with an idea like this? {message} {link}\",\n",
      "                '1008':\"@{user} Here's a different view of life than {celeb}'s: {message} {link}\",\n",
      "                '1060':\"@{user} Interesting news! what do you think {celeb} has to say about it? {message} {link}\",\n",
      "                '1049':\"@{user} Do you think {celeb} is tech savvy? {message} {link}\",\n",
      "                '1025':\"@{user} Does {celeb} care for the environment? {message} {link}\",\n",
      "                '1052':\"@{user} vs. {celeb} Who would win? {message} {link}\",\n",
      "                '1136':\"@{user} Would {celeb} still be a celebrity back then? {message} {link}\",\n",
      "                '1129':\"@{user} If you think {celeb}'s cool, check these people out! {message} {link}\", \n",
      "                '1024':\"@{user} {celeb} should fund this research: {message} {link}\",\n",
      "                '1007':\"@{user} what does the future hold? {celeb} or this AWSOME science! {message} {link}\",\n",
      "                '1004':\"@{user} There's more to life than {celeb}, check out what's happening around the world! {message} {link}\",\n",
      "                '1056':\"@{user} Here's a break from {celeb}, check out what's happening around the world! {message} {link}\"}\n",
      "                \n",
      "          #358046323, #Color Decoded: Stories That Span The Spectrum\n",
      "          #173814508,#The Race Card Project: Six-Word Essays\n",
      "          #156490415,#Joe's Big Idea\n",
      "          #1008,#Arts & Life\n",
      "          #1060,#Commentary\n",
      "          #1049,#Digital Life\n",
      "          #1025,#Environment\n",
      "          #1052,#Games & Humor\n",
      "          #1136,#History\n",
      "          #1129,#Humans\n",
      "          #1024,#Research News\n",
      "          #1007,#Science\n",
      "          #1004,#World\n",
      "          #1056, #World Story of the Day\n",
      "\n",
      "    return templates"
     ],
     "language": "python",
     "metadata": {},
     "outputs": [],
     "prompt_number": 10
    },
    {
     "cell_type": "markdown",
     "metadata": {},
     "source": [
      "The stories will be picked randomly: "
     ]
    },
    {
     "cell_type": "code",
     "collapsed": false,
     "input": [
      "def getRandomStoryDict(stories_dict):\n",
      "    topics=stories_dict.keys()\n",
      "  #get topics returned by the npr query\n",
      "    i=randint(0, len(topics)-1) #choose random topic\n",
      "    stories=stories_dict[topics[i]]\n",
      "    j=randint(0,len(stories)-1) #choose random story within the topic\n",
      "    topic=topics[i]\n",
      "    story=stories[j]\n",
      "    line=getLine(topic)\n",
      "    \n",
      "    story_dict={'topic':topic,\n",
      "                'story':story,\n",
      "                'line':line,\n",
      "                }\n",
      "    \n",
      "    return story_dict"
     ],
     "language": "python",
     "metadata": {},
     "outputs": [],
     "prompt_number": 12
    },
    {
     "cell_type": "heading",
     "level": 5,
     "metadata": {},
     "source": [
      "Issue: "
     ]
    },
    {
     "cell_type": "markdown",
     "metadata": {},
     "source": [
      "One of the main issues here was the length restriction. "
     ]
    },
    {
     "cell_type": "markdown",
     "metadata": {},
     "source": [
      "Knowing that twitter already shortens any link to a 20 character length, we decided to code in a way where the response would include the \"miniteaser\" if that specific article included it, if not, it would pick the \"teaser\", and check for the length of the entire tweet and if it exceeded the 140 character limit, then it would pick the \"title\" as the message. "
     ]
    },
    {
     "cell_type": "markdown",
     "metadata": {},
     "source": [
      "Also, since there are some fans who constantly tweet about a celebrity, and since we didn't want to respond to just one person, we coded in a way where each user gets only ONE tweet per day from us. We did this by creating a list of all users we tweet during the day, and everytime the bot wants to tweet, it makes sure that the user is not in that day's list. "
     ]
    },
    {
     "cell_type": "heading",
     "level": 3,
     "metadata": {},
     "source": [
      "Conclusions"
     ]
    },
    {
     "cell_type": "markdown",
     "metadata": {},
     "source": [
      "Gina is now a belieber.                                                                                                 \n",
      "Teenagers are crazy.                                                                                                 \n",
      "The world needs help.                                                                                                  \n",
      "Robert is secretly dating Miley Cyrus.                                                                                  \n",
      "Gina now talks only using lyrics. Baby, baby, baby ....\n",
      "giNA IS SINGING. \n",
      "bELARUS IS NOT A GAME\n"
     ]
    },
    {
     "cell_type": "code",
     "collapsed": false,
     "input": [],
     "language": "python",
     "metadata": {},
     "outputs": []
    }
   ],
   "metadata": {}
  }
 ]
}